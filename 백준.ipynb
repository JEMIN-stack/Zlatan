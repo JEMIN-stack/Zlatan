{
 "cells": [
  {
   "cell_type": "code",
   "execution_count": 6,
   "id": "da9571ba-0b1e-49bd-974a-c71d061ff3fb",
   "metadata": {},
   "outputs": [
    {
     "name": "stdin",
     "output_type": "stream",
     "text": [
      "정수 입력하시오: 9\n",
      "정수 입력하시오: -13\n"
     ]
    },
    {
     "name": "stdout",
     "output_type": "stream",
     "text": [
      "4\n"
     ]
    }
   ],
   "source": [
    "#사분면 고르기\n",
    "#14681번\n",
    "x = int(input(\"정수 입력하시오:\"))\n",
    "y = int(input(\"정수 입력하시오:\"))\n",
    "\n",
    "if x > 0 and y > 0 :\n",
    "    print(1)\n",
    "elif x < 0 and y > 0 :\n",
    "    print(2)\n",
    "elif x < 0 and y < 0 :\n",
    "    print(3)\n",
    "elif x > 0 and y < 0 :\n",
    "    print(4)\n"
   ]
  },
  {
   "cell_type": "code",
   "execution_count": 13,
   "id": "13fabcfc-ef6f-4174-a5ba-46e48bca29ae",
   "metadata": {},
   "outputs": [
    {
     "name": "stdin",
     "output_type": "stream",
     "text": [
      " 5\n"
     ]
    },
    {
     "name": "stdout",
     "output_type": "stream",
     "text": [
      "15\n"
     ]
    }
   ],
   "source": [
    "n = int(input())\n",
    "total = 0\n",
    "for i in range(1,n+1):\n",
    "    total += i\n",
    "print(total)\n"
   ]
  },
  {
   "cell_type": "code",
   "execution_count": 44,
   "id": "c0a95fff-44e8-45b0-ac8d-161eacf239c6",
   "metadata": {},
   "outputs": [
    {
     "name": "stdin",
     "output_type": "stream",
     "text": [
      " 3\n",
      " 1 1\n"
     ]
    },
    {
     "name": "stdout",
     "output_type": "stream",
     "text": [
      "2\n"
     ]
    },
    {
     "name": "stdin",
     "output_type": "stream",
     "text": [
      " 2 2\n"
     ]
    },
    {
     "name": "stdout",
     "output_type": "stream",
     "text": [
      "4\n"
     ]
    },
    {
     "name": "stdin",
     "output_type": "stream",
     "text": [
      " 3 4\n"
     ]
    },
    {
     "name": "stdout",
     "output_type": "stream",
     "text": [
      "7\n"
     ]
    }
   ],
   "source": [
    "#A+B-3\n",
    "#10950\n",
    "\n",
    "T = int(input())\n",
    "A = 0\n",
    "B = 0\n",
    "\n",
    "for i in range(T):\n",
    "    A, B = map(int, input().split(\" \"))\n",
    "    print(A+B)\n",
    "\n",
    "\n",
    "\n"
   ]
  },
  {
   "cell_type": "code",
   "execution_count": 6,
   "id": "88913ba0-9594-4355-a4ca-156883303c07",
   "metadata": {},
   "outputs": [
    {
     "name": "stdin",
     "output_type": "stream",
     "text": [
      " 4 5\n"
     ]
    },
    {
     "name": "stdout",
     "output_type": "stream",
     "text": [
      "9\n"
     ]
    },
    {
     "name": "stdin",
     "output_type": "stream",
     "text": [
      " 4 5\n"
     ]
    },
    {
     "name": "stdout",
     "output_type": "stream",
     "text": [
      "9\n"
     ]
    },
    {
     "name": "stdin",
     "output_type": "stream",
     "text": [
      " \n"
     ]
    }
   ],
   "source": [
    "# A + B -4\n",
    "# 10951번\n",
    "\n",
    "while True:\n",
    "    try:\n",
    "        A, B = map(int, input().split(\" \"))\n",
    "        print(A+B)\n",
    "    except:\n",
    "        break"
   ]
  },
  {
   "cell_type": "code",
   "execution_count": 1,
   "id": "e7a3c6ce-0fb1-497b-86ae-6e56cd0ba4b5",
   "metadata": {},
   "outputs": [
    {
     "name": "stdin",
     "output_type": "stream",
     "text": [
      " 1\n",
      " 1 1\n"
     ]
    },
    {
     "name": "stdout",
     "output_type": "stream",
     "text": [
      "Case #1: 2\n"
     ]
    }
   ],
   "source": [
    "#A+B-7\n",
    "#11021\n",
    "\n",
    "T = int(input())\n",
    "\n",
    "\n",
    "for i in range(T):\n",
    "    A, B = map(int, input().split(\" \"))\n",
    "    print(f\"Case #{i+1}: {A+B}\")"
   ]
  },
  {
   "cell_type": "code",
   "execution_count": 7,
   "id": "edf217a3-f88a-4335-93eb-689791d448e7",
   "metadata": {},
   "outputs": [
    {
     "name": "stdin",
     "output_type": "stream",
     "text": [
      " 5\n"
     ]
    },
    {
     "name": "stdout",
     "output_type": "stream",
     "text": [
      "    * \n",
      "   * * \n",
      "  * * * \n",
      " * * * * \n",
      "* * * * * \n"
     ]
    }
   ],
   "source": [
    "# 2439번\n",
    "# 별 찍기 -2\n",
    "N = int(input())\n",
    "for i in range(1,N+1):\n",
    "    for _ in range(N-i,0,-1): \n",
    "        print(\" \", end = \"\")\n",
    "    for _ in range(1, i+1):\n",
    "        print(\"*\", end = \"\")\n",
    "    print()"
   ]
  },
  {
   "cell_type": "code",
   "execution_count": 11,
   "id": "57191eca-9a96-450d-ad49-014b15950430",
   "metadata": {},
   "outputs": [
    {
     "name": "stdin",
     "output_type": "stream",
     "text": [
      " 20\n"
     ]
    },
    {
     "name": "stdout",
     "output_type": "stream",
     "text": [
      "long long long long long  int\n"
     ]
    }
   ],
   "source": [
    "# 25314번 / 코딩은 체육과목 입니다\n",
    "N = int(input())\n",
    "for i in range(int(N / 4)):\n",
    "    print(\"long\", end = \" \")\n",
    "print(\"int\")"
   ]
  },
  {
   "cell_type": "code",
   "execution_count": 43,
   "id": "d8e193f0-b613-406f-9ef7-475cd68248bc",
   "metadata": {},
   "outputs": [
    {
     "name": "stdin",
     "output_type": "stream",
     "text": [
      " 6 2 5\n"
     ]
    },
    {
     "name": "stdout",
     "output_type": "stream",
     "text": [
      "600\n"
     ]
    }
   ],
   "source": [
    "# 2480번 / 주사위 세개\n",
    "A, B, C = map(int, input().split(\" \"))\n",
    "list1 = [A,B,C]\n",
    "list1.sort()\n",
    "if list1[0] == list1[2]:\n",
    "    print(f\"{10000 + list1[0] * 1000}\")\n",
    "elif list1[0] == list1[1] or list1[1] == list1[2]:\n",
    "    print(f\"{1000 + list1[1] * 100}\")\n",
    "else:\n",
    "    print(f\"{list1[2] * 100}\")"
   ]
  }
 ],
 "metadata": {
  "kernelspec": {
   "display_name": "Python 3 (ipykernel)",
   "language": "python",
   "name": "python3"
  },
  "language_info": {
   "codemirror_mode": {
    "name": "ipython",
    "version": 3
   },
   "file_extension": ".py",
   "mimetype": "text/x-python",
   "name": "python",
   "nbconvert_exporter": "python",
   "pygments_lexer": "ipython3",
   "version": "3.9.23"
  }
 },
 "nbformat": 4,
 "nbformat_minor": 5
}
